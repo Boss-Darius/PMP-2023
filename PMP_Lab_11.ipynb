{
  "nbformat": 4,
  "nbformat_minor": 0,
  "metadata": {
    "colab": {
      "provenance": [],
      "authorship_tag": "ABX9TyN5bXjdpxwVPrCItMLph6VI",
      "include_colab_link": true
    },
    "kernelspec": {
      "name": "python3",
      "display_name": "Python 3"
    },
    "language_info": {
      "name": "python"
    }
  },
  "cells": [
    {
      "cell_type": "markdown",
      "metadata": {
        "id": "view-in-github",
        "colab_type": "text"
      },
      "source": [
        "<a href=\"https://colab.research.google.com/github/Boss-Darius/PMP-2023/blob/main/PMP_Lab_11.ipynb\" target=\"_parent\"><img src=\"https://colab.research.google.com/assets/colab-badge.svg\" alt=\"Open In Colab\"/></a>"
      ]
    },
    {
      "cell_type": "code",
      "execution_count": null,
      "metadata": {
        "id": "ZK0DRQb25aYR"
      },
      "outputs": [],
      "source": [
        "import numpy as np\n",
        "import pymc3 as pm\n",
        "import arviz as az\n",
        "import matplotlib.pyplot as plt\n",
        "\n",
        "\n",
        "np.random.seed(1)\n",
        "\n",
        "# 1\n",
        "clusters = 3\n",
        "n_cluster = [200, 150, 150]\n",
        "n_total = sum(n_cluster)\n",
        "means = [5, 0, -5]\n",
        "std_devs = [2, 2, 2]\n",
        "mix = np.concatenate([np.random.normal(means[i], std_devs[i], size=n_cluster[i]) for i in range(clusters)])\n",
        "\n",
        "# Plot the generated data\n",
        "az.plot_kde(np.array(mix))\n",
        "plt.title('Generated Data')\n",
        "plt.show()\n",
        "#2\n",
        "for num_components in range(2, 5):\n",
        "    with pm.Model() as model:\n",
        "        means = pm.Normal('means', mu=[0] * num_components, sd=10, shape=num_components)\n",
        "\n",
        "        std_devs = pm.HalfNormal('std_devs', sd=10, shape=num_components)\n",
        "\n",
        "        weights = pm.Dirichlet('weights', a=np.ones(num_components))\n",
        "\n",
        "        obs = pm.NormalMixture('obs', w=weights, mu=means, sd=std_devs, observed=mix)\n",
        "\n",
        "        trace = pm.sample(1000, tune=1000)\n",
        "\n",
        "    # Display the traceplot\n",
        "    pm.traceplot(trace, var_names=['means', 'std_devs', 'weights'])\n",
        "    plt.show()\n",
        "\n",
        "    # 3\n",
        "    waic = pm.waic(trace, model)\n",
        "    loo = pm.loo(trace, model)\n",
        "\n",
        "    print(f\"Number of Components: {num_components}\")\n",
        "    print(\"WAIC:\", waic.waic)\n",
        "    print(\"LOO:\", loo.loo)"
      ]
    }
  ]
}