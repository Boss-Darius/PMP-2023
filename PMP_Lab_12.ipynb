{
  "nbformat": 4,
  "nbformat_minor": 0,
  "metadata": {
    "colab": {
      "provenance": [],
      "authorship_tag": "ABX9TyMCIq3WXpicKGKRGYpmmCzT",
      "include_colab_link": true
    },
    "kernelspec": {
      "name": "python3",
      "display_name": "Python 3"
    },
    "language_info": {
      "name": "python"
    }
  },
  "cells": [
    {
      "cell_type": "markdown",
      "metadata": {
        "id": "view-in-github",
        "colab_type": "text"
      },
      "source": [
        "<a href=\"https://colab.research.google.com/github/Boss-Darius/PMP-2023/blob/main/PMP_Lab_12.ipynb\" target=\"_parent\"><img src=\"https://colab.research.google.com/assets/colab-badge.svg\" alt=\"Open In Colab\"/></a>"
      ]
    },
    {
      "cell_type": "code",
      "source": [
        "!pip install --upgrade pymc3\n",
        "!pip uninstall -y theano\n",
        "!pip install Theano==1.0.5"
      ],
      "metadata": {
        "colab": {
          "base_uri": "https://localhost:8080/"
        },
        "id": "fmIFRMrxt-Yb",
        "outputId": "b659c7ec-0b71-488a-f2a2-0b4e9567c3db"
      },
      "execution_count": 2,
      "outputs": [
        {
          "output_type": "stream",
          "name": "stdout",
          "text": [
            "Requirement already satisfied: pymc3 in /usr/local/lib/python3.10/dist-packages (3.11.5)\n",
            "Requirement already satisfied: arviz>=0.11.0 in /usr/local/lib/python3.10/dist-packages (from pymc3) (0.12.1)\n",
            "Requirement already satisfied: cachetools>=4.2.1 in /usr/local/lib/python3.10/dist-packages (from pymc3) (5.3.2)\n",
            "Requirement already satisfied: deprecat in /usr/local/lib/python3.10/dist-packages (from pymc3) (2.1.1)\n",
            "Requirement already satisfied: dill in /usr/local/lib/python3.10/dist-packages (from pymc3) (0.3.7)\n",
            "Requirement already satisfied: fastprogress>=0.2.0 in /usr/local/lib/python3.10/dist-packages (from pymc3) (1.0.3)\n",
            "Requirement already satisfied: numpy<1.22.2,>=1.15.0 in /usr/local/lib/python3.10/dist-packages (from pymc3) (1.22.1)\n",
            "Requirement already satisfied: pandas>=0.24.0 in /usr/local/lib/python3.10/dist-packages (from pymc3) (1.5.3)\n",
            "Requirement already satisfied: patsy>=0.5.1 in /usr/local/lib/python3.10/dist-packages (from pymc3) (0.5.6)\n",
            "Requirement already satisfied: scipy<1.8.0,>=1.7.3 in /usr/local/lib/python3.10/dist-packages (from pymc3) (1.7.3)\n",
            "Requirement already satisfied: semver>=2.13.0 in /usr/local/lib/python3.10/dist-packages (from pymc3) (3.0.2)\n",
            "Requirement already satisfied: theano-pymc==1.1.2 in /usr/local/lib/python3.10/dist-packages (from pymc3) (1.1.2)\n",
            "Requirement already satisfied: typing-extensions>=3.7.4 in /usr/local/lib/python3.10/dist-packages (from pymc3) (4.5.0)\n",
            "Requirement already satisfied: filelock in /usr/local/lib/python3.10/dist-packages (from theano-pymc==1.1.2->pymc3) (3.13.1)\n",
            "Requirement already satisfied: setuptools>=38.4 in /usr/local/lib/python3.10/dist-packages (from arviz>=0.11.0->pymc3) (67.7.2)\n",
            "Requirement already satisfied: matplotlib>=3.0 in /usr/local/lib/python3.10/dist-packages (from arviz>=0.11.0->pymc3) (3.7.1)\n",
            "Requirement already satisfied: packaging in /usr/local/lib/python3.10/dist-packages (from arviz>=0.11.0->pymc3) (23.2)\n",
            "Requirement already satisfied: xarray>=0.16.1 in /usr/local/lib/python3.10/dist-packages (from arviz>=0.11.0->pymc3) (2023.7.0)\n",
            "Requirement already satisfied: netcdf4 in /usr/local/lib/python3.10/dist-packages (from arviz>=0.11.0->pymc3) (1.6.5)\n",
            "Requirement already satisfied: xarray-einstats>=0.2 in /usr/local/lib/python3.10/dist-packages (from arviz>=0.11.0->pymc3) (0.6.0)\n",
            "Requirement already satisfied: python-dateutil>=2.8.1 in /usr/local/lib/python3.10/dist-packages (from pandas>=0.24.0->pymc3) (2.8.2)\n",
            "Requirement already satisfied: pytz>=2020.1 in /usr/local/lib/python3.10/dist-packages (from pandas>=0.24.0->pymc3) (2023.3.post1)\n",
            "Requirement already satisfied: six in /usr/local/lib/python3.10/dist-packages (from patsy>=0.5.1->pymc3) (1.16.0)\n",
            "Requirement already satisfied: wrapt<2,>=1.10 in /usr/local/lib/python3.10/dist-packages (from deprecat->pymc3) (1.14.1)\n",
            "Requirement already satisfied: contourpy>=1.0.1 in /usr/local/lib/python3.10/dist-packages (from matplotlib>=3.0->arviz>=0.11.0->pymc3) (1.2.0)\n",
            "Requirement already satisfied: cycler>=0.10 in /usr/local/lib/python3.10/dist-packages (from matplotlib>=3.0->arviz>=0.11.0->pymc3) (0.12.1)\n",
            "Requirement already satisfied: fonttools>=4.22.0 in /usr/local/lib/python3.10/dist-packages (from matplotlib>=3.0->arviz>=0.11.0->pymc3) (4.47.0)\n",
            "Requirement already satisfied: kiwisolver>=1.0.1 in /usr/local/lib/python3.10/dist-packages (from matplotlib>=3.0->arviz>=0.11.0->pymc3) (1.4.5)\n",
            "Requirement already satisfied: pillow>=6.2.0 in /usr/local/lib/python3.10/dist-packages (from matplotlib>=3.0->arviz>=0.11.0->pymc3) (9.4.0)\n",
            "Requirement already satisfied: pyparsing>=2.3.1 in /usr/local/lib/python3.10/dist-packages (from matplotlib>=3.0->arviz>=0.11.0->pymc3) (3.1.1)\n",
            "Requirement already satisfied: cftime in /usr/local/lib/python3.10/dist-packages (from netcdf4->arviz>=0.11.0->pymc3) (1.6.3)\n",
            "Requirement already satisfied: certifi in /usr/local/lib/python3.10/dist-packages (from netcdf4->arviz>=0.11.0->pymc3) (2023.11.17)\n",
            "\u001b[33mWARNING: Skipping theano as it is not installed.\u001b[0m\u001b[33m\n",
            "\u001b[0mCollecting Theano==1.0.5\n",
            "  Downloading Theano-1.0.5.tar.gz (2.8 MB)\n",
            "\u001b[2K     \u001b[90m━━━━━━━━━━━━━━━━━━━━━━━━━━━━━━━━━━━━━━━━\u001b[0m \u001b[32m2.8/2.8 MB\u001b[0m \u001b[31m8.6 MB/s\u001b[0m eta \u001b[36m0:00:00\u001b[0m\n",
            "\u001b[?25h  Preparing metadata (setup.py) ... \u001b[?25l\u001b[?25hdone\n",
            "Requirement already satisfied: numpy>=1.9.1 in /usr/local/lib/python3.10/dist-packages (from Theano==1.0.5) (1.22.1)\n",
            "Requirement already satisfied: scipy>=0.14 in /usr/local/lib/python3.10/dist-packages (from Theano==1.0.5) (1.7.3)\n",
            "Requirement already satisfied: six>=1.9.0 in /usr/local/lib/python3.10/dist-packages (from Theano==1.0.5) (1.16.0)\n",
            "Building wheels for collected packages: Theano\n",
            "  Building wheel for Theano (setup.py) ... \u001b[?25l\u001b[?25hdone\n",
            "  Created wheel for Theano: filename=Theano-1.0.5-py3-none-any.whl size=2668109 sha256=3a11bffdfbd20c33fc04443651a0e5a1393d2813f1b11acfa269a5d641b626cb\n",
            "  Stored in directory: /root/.cache/pip/wheels/d9/e6/7d/2267d21a99e4ab8276f976f293b4ff23f50c9d809f4a216ebb\n",
            "Successfully built Theano\n",
            "Installing collected packages: Theano\n",
            "Successfully installed Theano-1.0.5\n"
          ]
        }
      ]
    },
    {
      "cell_type": "code",
      "source": [],
      "metadata": {
        "id": "1BL45FICveKa"
      },
      "execution_count": null,
      "outputs": []
    },
    {
      "cell_type": "code",
      "source": [
        "#1)\n",
        "%env MKL_THREADING_LAYER=GNU\n",
        "!pip install pymc3\n",
        "\n",
        "import pymc3 as pm\n",
        "import numpy as np\n",
        "import matplotlib.pyplot as plt\n",
        "\n",
        "pm.set_tt_rng(42)\n",
        "pm.tt.compile.mode.get_default_mode().message = 'ignore'\n",
        "\n",
        "# Dummy model to avoid version check\n",
        "with pm.Model():\n",
        "    pm.Deterministic('dummy', 0)\n",
        "\n",
        "# Generăm date observate\n",
        "np.random.seed(42)\n",
        "data = np.random.binomial(n=1, p=0.3, size=100)\n",
        "\n",
        "# Definim modelul în PyMC cu distribuție Beta\n",
        "with pm.Model() as model_beta:\n",
        "    p = pm.Beta('p', alpha=2, beta=2)\n",
        "    obs = pm.Bernoulli('obs', p, observed=data)\n",
        "\n",
        "# Folosim Metropolis pentru a estima parametrii\n",
        "with model_beta:\n",
        "    trace_beta = pm.sample(10000, tune=1000)\n",
        "\n",
        "# Trasăm distribuția posterioră\n",
        "pm.plot_posterior(trace_beta, var_names=['p'])\n",
        "plt.title('Posterior - Distribuție Beta')\n",
        "plt.show()\n"
      ],
      "metadata": {
        "colab": {
          "base_uri": "https://localhost:8080/",
          "height": 1000
        },
        "id": "uzll4lCCtnuj",
        "outputId": "9d3dfe12-4229-4c34-b6f5-0b9e1b8c807f"
      },
      "execution_count": 3,
      "outputs": [
        {
          "output_type": "stream",
          "name": "stdout",
          "text": [
            "env: MKL_THREADING_LAYER=GNU\n",
            "Collecting pymc3\n",
            "  Using cached pymc3-3.11.5-py3-none-any.whl (872 kB)\n",
            "Requirement already satisfied: arviz>=0.11.0 in /usr/local/lib/python3.10/dist-packages (from pymc3) (0.17.0)\n",
            "Requirement already satisfied: cachetools>=4.2.1 in /usr/local/lib/python3.10/dist-packages (from pymc3) (5.3.2)\n",
            "Requirement already satisfied: deprecat in /usr/local/lib/python3.10/dist-packages (from pymc3) (2.1.1)\n",
            "Requirement already satisfied: dill in /usr/local/lib/python3.10/dist-packages (from pymc3) (0.3.7)\n",
            "Requirement already satisfied: fastprogress>=0.2.0 in /usr/local/lib/python3.10/dist-packages (from pymc3) (1.0.3)\n",
            "Requirement already satisfied: numpy<1.22.2,>=1.15.0 in /usr/local/lib/python3.10/dist-packages (from pymc3) (1.22.1)\n",
            "Requirement already satisfied: pandas>=0.24.0 in /usr/local/lib/python3.10/dist-packages (from pymc3) (1.5.3)\n",
            "Requirement already satisfied: patsy>=0.5.1 in /usr/local/lib/python3.10/dist-packages (from pymc3) (0.5.6)\n",
            "Collecting scipy<1.8.0,>=1.7.3 (from pymc3)\n",
            "  Using cached scipy-1.7.3-cp310-cp310-manylinux_2_17_x86_64.manylinux2014_x86_64.whl (39.9 MB)\n",
            "Requirement already satisfied: semver>=2.13.0 in /usr/local/lib/python3.10/dist-packages (from pymc3) (3.0.2)\n",
            "Requirement already satisfied: theano-pymc==1.1.2 in /usr/local/lib/python3.10/dist-packages (from pymc3) (1.1.2)\n",
            "Requirement already satisfied: typing-extensions>=3.7.4 in /usr/local/lib/python3.10/dist-packages (from pymc3) (4.5.0)\n",
            "Requirement already satisfied: filelock in /usr/local/lib/python3.10/dist-packages (from theano-pymc==1.1.2->pymc3) (3.13.1)\n",
            "Requirement already satisfied: setuptools>=60.0.0 in /usr/local/lib/python3.10/dist-packages (from arviz>=0.11.0->pymc3) (67.7.2)\n",
            "Requirement already satisfied: matplotlib>=3.5 in /usr/local/lib/python3.10/dist-packages (from arviz>=0.11.0->pymc3) (3.7.1)\n",
            "INFO: pip is looking at multiple versions of arviz to determine which version is compatible with other requirements. This could take a while.\n",
            "Collecting arviz>=0.11.0 (from pymc3)\n",
            "  Using cached arviz-0.16.1-py3-none-any.whl (1.7 MB)\n",
            "  Using cached arviz-0.16.0-py3-none-any.whl (1.7 MB)\n",
            "  Downloading arviz-0.15.1-py3-none-any.whl (1.6 MB)\n",
            "\u001b[2K     \u001b[90m━━━━━━━━━━━━━━━━━━━━━━━━━━━━━━━━━━━━━━━━\u001b[0m \u001b[32m1.6/1.6 MB\u001b[0m \u001b[31m7.3 MB/s\u001b[0m eta \u001b[36m0:00:00\u001b[0m\n",
            "\u001b[?25h  Using cached arviz-0.15.0-py3-none-any.whl (1.6 MB)\n",
            "  Using cached arviz-0.14.0-py3-none-any.whl (1.7 MB)\n",
            "  Using cached arviz-0.13.0-py3-none-any.whl (1.7 MB)\n",
            "  Using cached arviz-0.12.1-py3-none-any.whl (1.6 MB)\n",
            "Requirement already satisfied: packaging in /usr/local/lib/python3.10/dist-packages (from arviz>=0.11.0->pymc3) (23.2)\n",
            "Requirement already satisfied: xarray>=0.16.1 in /usr/local/lib/python3.10/dist-packages (from arviz>=0.11.0->pymc3) (2023.7.0)\n",
            "Requirement already satisfied: netcdf4 in /usr/local/lib/python3.10/dist-packages (from arviz>=0.11.0->pymc3) (1.6.5)\n",
            "Requirement already satisfied: xarray-einstats>=0.2 in /usr/local/lib/python3.10/dist-packages (from arviz>=0.11.0->pymc3) (0.6.0)\n",
            "Requirement already satisfied: python-dateutil>=2.8.1 in /usr/local/lib/python3.10/dist-packages (from pandas>=0.24.0->pymc3) (2.8.2)\n",
            "Requirement already satisfied: pytz>=2020.1 in /usr/local/lib/python3.10/dist-packages (from pandas>=0.24.0->pymc3) (2023.3.post1)\n",
            "Requirement already satisfied: six in /usr/local/lib/python3.10/dist-packages (from patsy>=0.5.1->pymc3) (1.16.0)\n",
            "Requirement already satisfied: wrapt<2,>=1.10 in /usr/local/lib/python3.10/dist-packages (from deprecat->pymc3) (1.14.1)\n",
            "Requirement already satisfied: contourpy>=1.0.1 in /usr/local/lib/python3.10/dist-packages (from matplotlib>=3.5->arviz>=0.11.0->pymc3) (1.2.0)\n",
            "Requirement already satisfied: cycler>=0.10 in /usr/local/lib/python3.10/dist-packages (from matplotlib>=3.5->arviz>=0.11.0->pymc3) (0.12.1)\n",
            "Requirement already satisfied: fonttools>=4.22.0 in /usr/local/lib/python3.10/dist-packages (from matplotlib>=3.5->arviz>=0.11.0->pymc3) (4.47.0)\n",
            "Requirement already satisfied: kiwisolver>=1.0.1 in /usr/local/lib/python3.10/dist-packages (from matplotlib>=3.5->arviz>=0.11.0->pymc3) (1.4.5)\n",
            "Requirement already satisfied: pillow>=6.2.0 in /usr/local/lib/python3.10/dist-packages (from matplotlib>=3.5->arviz>=0.11.0->pymc3) (9.4.0)\n",
            "Requirement already satisfied: pyparsing>=2.3.1 in /usr/local/lib/python3.10/dist-packages (from matplotlib>=3.5->arviz>=0.11.0->pymc3) (3.1.1)\n",
            "Requirement already satisfied: cftime in /usr/local/lib/python3.10/dist-packages (from netcdf4->arviz>=0.11.0->pymc3) (1.6.3)\n",
            "Requirement already satisfied: certifi in /usr/local/lib/python3.10/dist-packages (from netcdf4->arviz>=0.11.0->pymc3) (2023.11.17)\n",
            "Installing collected packages: scipy, arviz, pymc3\n",
            "  Attempting uninstall: scipy\n",
            "    Found existing installation: scipy 1.11.4\n",
            "    Uninstalling scipy-1.11.4:\n",
            "      Successfully uninstalled scipy-1.11.4\n",
            "  Attempting uninstall: arviz\n",
            "    Found existing installation: arviz 0.17.0\n",
            "    Uninstalling arviz-0.17.0:\n",
            "      Successfully uninstalled arviz-0.17.0\n",
            "\u001b[31mERROR: pip's dependency resolver does not currently take into account all the packages that are installed. This behaviour is the source of the following dependency conflicts.\n",
            "lida 0.0.10 requires fastapi, which is not installed.\n",
            "lida 0.0.10 requires kaleido, which is not installed.\n",
            "lida 0.0.10 requires python-multipart, which is not installed.\n",
            "lida 0.0.10 requires uvicorn, which is not installed.\n",
            "jax 0.4.23 requires scipy>=1.9, but you have scipy 1.7.3 which is incompatible.\n",
            "jaxlib 0.4.23+cuda12.cudnn89 requires scipy>=1.9, but you have scipy 1.7.3 which is incompatible.\n",
            "librosa 0.10.1 requires numpy!=1.22.0,!=1.22.1,!=1.22.2,>=1.20.3, but you have numpy 1.22.1 which is incompatible.\n",
            "plotnine 0.12.4 requires numpy>=1.23.0, but you have numpy 1.22.1 which is incompatible.\n",
            "pymc 5.10.3+4.g2051d0b4 requires arviz>=0.13.0, but you have arviz 0.12.1 which is incompatible.\u001b[0m\u001b[31m\n",
            "\u001b[0mSuccessfully installed arviz-0.12.1 pymc3-3.11.5 scipy-1.7.3\n",
            "!!!!!!!!!!!!!!!!!!!!!!!!!!!!!!!!!!!!!!!!!!!!!!!!!!!!!!!!!!!!\n",
            "The imported Theano(-PyMC) module is broken.\n",
            "It was imported from _NamespacePath(['/usr/local/lib/python3.10/dist-packages/theano'])\n",
            "Try to uninstall/reinstall it after closing all active sessions/notebooks.\n",
            "Also see https://github.com/pymc-devs/pymc3/wiki for installation instructions.\n",
            "!!!!!!!!!!!!!!!!!!!!!!!!!!!!!!!!!!!!!!!!!!!!!!!!!!!!!!!!!!!!\n"
          ]
        },
        {
          "output_type": "error",
          "ename": "AttributeError",
          "evalue": "module 'theano' has no attribute 'config'",
          "traceback": [
            "\u001b[0;31m---------------------------------------------------------------------------\u001b[0m",
            "\u001b[0;31mAttributeError\u001b[0m                            Traceback (most recent call last)",
            "\u001b[0;32m<ipython-input-3-52b955235043>\u001b[0m in \u001b[0;36m<cell line: 5>\u001b[0;34m()\u001b[0m\n\u001b[1;32m      3\u001b[0m \u001b[0mget_ipython\u001b[0m\u001b[0;34m(\u001b[0m\u001b[0;34m)\u001b[0m\u001b[0;34m.\u001b[0m\u001b[0msystem\u001b[0m\u001b[0;34m(\u001b[0m\u001b[0;34m'pip install pymc3'\u001b[0m\u001b[0;34m)\u001b[0m\u001b[0;34m\u001b[0m\u001b[0;34m\u001b[0m\u001b[0m\n\u001b[1;32m      4\u001b[0m \u001b[0;34m\u001b[0m\u001b[0m\n\u001b[0;32m----> 5\u001b[0;31m \u001b[0;32mimport\u001b[0m \u001b[0mpymc3\u001b[0m \u001b[0;32mas\u001b[0m \u001b[0mpm\u001b[0m\u001b[0;34m\u001b[0m\u001b[0;34m\u001b[0m\u001b[0m\n\u001b[0m\u001b[1;32m      6\u001b[0m \u001b[0;32mimport\u001b[0m \u001b[0mnumpy\u001b[0m \u001b[0;32mas\u001b[0m \u001b[0mnp\u001b[0m\u001b[0;34m\u001b[0m\u001b[0;34m\u001b[0m\u001b[0m\n\u001b[1;32m      7\u001b[0m \u001b[0;32mimport\u001b[0m \u001b[0mmatplotlib\u001b[0m\u001b[0;34m.\u001b[0m\u001b[0mpyplot\u001b[0m \u001b[0;32mas\u001b[0m \u001b[0mplt\u001b[0m\u001b[0;34m\u001b[0m\u001b[0;34m\u001b[0m\u001b[0m\n",
            "\u001b[0;32m/usr/local/lib/python3.10/dist-packages/pymc3/__init__.py\u001b[0m in \u001b[0;36m<module>\u001b[0;34m\u001b[0m\n\u001b[1;32m    110\u001b[0m \u001b[0;34m\u001b[0m\u001b[0m\n\u001b[1;32m    111\u001b[0m \u001b[0m_check_backend_version\u001b[0m\u001b[0;34m(\u001b[0m\u001b[0;34m)\u001b[0m\u001b[0;34m\u001b[0m\u001b[0;34m\u001b[0m\u001b[0m\n\u001b[0;32m--> 112\u001b[0;31m \u001b[0m__set_compiler_flags\u001b[0m\u001b[0;34m(\u001b[0m\u001b[0;34m)\u001b[0m\u001b[0;34m\u001b[0m\u001b[0;34m\u001b[0m\u001b[0m\n\u001b[0m\u001b[1;32m    113\u001b[0m \u001b[0m_hotfix_theano_printing\u001b[0m\u001b[0;34m(\u001b[0m\u001b[0;34m)\u001b[0m\u001b[0;34m\u001b[0m\u001b[0;34m\u001b[0m\u001b[0m\n\u001b[1;32m    114\u001b[0m \u001b[0;34m\u001b[0m\u001b[0m\n",
            "\u001b[0;32m/usr/local/lib/python3.10/dist-packages/pymc3/__init__.py\u001b[0m in \u001b[0;36m__set_compiler_flags\u001b[0;34m()\u001b[0m\n\u001b[1;32m     81\u001b[0m \u001b[0;32mdef\u001b[0m \u001b[0m__set_compiler_flags\u001b[0m\u001b[0;34m(\u001b[0m\u001b[0;34m)\u001b[0m\u001b[0;34m:\u001b[0m\u001b[0;34m\u001b[0m\u001b[0;34m\u001b[0m\u001b[0m\n\u001b[1;32m     82\u001b[0m     \u001b[0;31m# Workarounds for Theano compiler problems on various platforms\u001b[0m\u001b[0;34m\u001b[0m\u001b[0;34m\u001b[0m\u001b[0m\n\u001b[0;32m---> 83\u001b[0;31m     \u001b[0mcurrent\u001b[0m \u001b[0;34m=\u001b[0m \u001b[0mtheano\u001b[0m\u001b[0;34m.\u001b[0m\u001b[0mconfig\u001b[0m\u001b[0;34m.\u001b[0m\u001b[0mgcc__cxxflags\u001b[0m\u001b[0;34m\u001b[0m\u001b[0;34m\u001b[0m\u001b[0m\n\u001b[0m\u001b[1;32m     84\u001b[0m     \u001b[0maugmented\u001b[0m \u001b[0;34m=\u001b[0m \u001b[0;34mf\"{current} -Wno-c++11-narrowing\"\u001b[0m\u001b[0;34m\u001b[0m\u001b[0;34m\u001b[0m\u001b[0m\n\u001b[1;32m     85\u001b[0m \u001b[0;34m\u001b[0m\u001b[0m\n",
            "\u001b[0;31mAttributeError\u001b[0m: module 'theano' has no attribute 'config'"
          ]
        }
      ]
    },
    {
      "cell_type": "code",
      "source": [
        "#2)\n",
        "def estimate_pi(N):\n",
        "    x = np.random.uniform(-1, 1, N)\n",
        "    y = np.random.uniform(-1, 1, N)\n",
        "    inside_circle = np.sqrt(x**2 + y**2) <= 1\n",
        "    pi_estimate = 4 * np.sum(inside_circle) / N\n",
        "    error = np.abs(pi_estimate - np.pi)\n",
        "    return error\n",
        "\n",
        "# Fixăm N și calculăm eroarea de mai multe ori\n",
        "N_values = [100, 1000, 10000]\n",
        "errors = []\n",
        "\n",
        "for N in N_values:\n",
        "    error_values = [estimate_pi(N) for _ in range(100)]\n",
        "    mean_error = np.mean(error_values)\n",
        "    std_error = np.std(error_values)\n",
        "    errors.append((N, mean_error, std_error))\n",
        "\n",
        "# Vizualizăm rezultatele cu plt.errorbar()\n",
        "plt.errorbar([item[0] for item in errors], [item[1] for item in errors], yerr=[item[2] for item in errors], fmt='o')\n",
        "plt.xscale('log')\n",
        "plt.xlabel('N')\n",
        "plt.ylabel('Eroare')\n",
        "plt.title('Eroarea în funcție de N')\n",
        "plt.show()\n"
      ],
      "metadata": {
        "id": "XoLgkpAftorD"
      },
      "execution_count": null,
      "outputs": []
    },
    {
      "cell_type": "code",
      "source": [
        "#3)\n",
        "# Definim funcția pentru distribuția a priori beta-binomial\n",
        "def log_prior(theta):\n",
        "    alpha = 2\n",
        "    beta = 2\n",
        "    return (alpha - 1) * np.log(theta) + (beta - 1) * np.log(1 - theta)\n",
        "\n",
        "# Definim funcția pentru log-likelihood binomial\n",
        "def log_likelihood(theta, data):\n",
        "    return np.sum(data * np.log(theta) + (1 - data) * np.log(1 - theta))\n",
        "\n",
        "# Definim funcția log-posterior\n",
        "def log_posterior(theta, data):\n",
        "    return log_prior(theta) + log_likelihood(theta, data)\n",
        "\n",
        "# Folosim Metropolis pentru a estima parametrii\n",
        "def metropolis(log_posterior, theta0, n_samples, data):\n",
        "    samples = [theta0]\n",
        "    theta_current = theta0\n",
        "\n",
        "    for _ in range(n_samples):\n",
        "        theta_proposed = np.random.normal(theta_current, 0.1)\n",
        "        alpha = np.exp(log_posterior(theta_proposed, data) - log_posterior(theta_current, data))\n",
        "        if np.random.uniform(0, 1) < alpha:\n",
        "            theta_current = theta_proposed\n",
        "        samples.append(theta_current)\n",
        "\n",
        "    return np.array(samples)\n",
        "\n",
        "# Generăm date observate\n",
        "np.random.seed(42)\n",
        "data = np.random.binomial(n=1, p=0.3, size=100)\n",
        "\n",
        "# Rulăm Metropolis\n",
        "theta_samples = metropolis(log_posterior, theta0=0.5, n_samples=10000, data=data)\n",
        "\n",
        "# Trasăm distribuția posterioră\n",
        "plt.hist(theta_samples, bins=30, density=True, alpha=0.5, label='Metropolis')\n",
        "plt.xlabel('Theta')\n",
        "plt.ylabel('Densitatea de probabilitate')\n",
        "plt.legend()\n",
        "plt.show()\n"
      ],
      "metadata": {
        "id": "semt5luLty9n"
      },
      "execution_count": null,
      "outputs": []
    }
  ]
}