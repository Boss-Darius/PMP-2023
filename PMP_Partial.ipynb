{
  "nbformat": 4,
  "nbformat_minor": 0,
  "metadata": {
    "colab": {
      "provenance": [],
      "authorship_tag": "ABX9TyNS59StIHHrSXIcxE8yuiOq",
      "include_colab_link": true
    },
    "kernelspec": {
      "name": "python3",
      "display_name": "Python 3"
    },
    "language_info": {
      "name": "python"
    }
  },
  "cells": [
    {
      "cell_type": "markdown",
      "metadata": {
        "id": "view-in-github",
        "colab_type": "text"
      },
      "source": [
        "<a href=\"https://colab.research.google.com/github/Boss-Darius/PMP-2023/blob/main/PMP_Partial.ipynb\" target=\"_parent\"><img src=\"https://colab.research.google.com/assets/colab-badge.svg\" alt=\"Open In Colab\"/></a>"
      ]
    },
    {
      "cell_type": "code",
      "execution_count": 46,
      "metadata": {
        "colab": {
          "base_uri": "https://localhost:8080/"
        },
        "id": "YJZJJwqIwBQh",
        "outputId": "ca5e3032-1a62-4a71-8be2-6ecf4dd5fa5b"
      },
      "outputs": [
        {
          "output_type": "stream",
          "name": "stdout",
          "text": [
            "P1 are mai multe sanse de castig\n"
          ]
        }
      ],
      "source": [
        "#Problema 1\n",
        "import pymc as pm\n",
        "import random\n",
        "import numpy as np\n",
        "from scipy import stats\n",
        "from random import seed\n",
        "from random import randint\n",
        "\n",
        "#1.1)\n",
        "\n",
        "stemeP0=0\n",
        "\n",
        "for i in range(0,20000):\n",
        "  seed(1)\n",
        "  castigator=''\n",
        "  alegere=randint(0,1)\n",
        "\n",
        "  if alegere==0:\n",
        "    DistributieP0=stats.binom(1,0.6)\n",
        "    DistributieP1=stats.binom(2,0.5)\n",
        "\n",
        "    n=DistributieP0.rvs()\n",
        "    m=DistributieP1.rvs(size=2)\n",
        "\n",
        "    if n>(m[0]+m[1]): stemeP0+=1\n",
        "\n",
        "  else :\n",
        "    DistributieP0=stats.binom(2,0.6)\n",
        "    DistributieP1=stats.binom(1,0.5)\n",
        "\n",
        "    n=DistributieP0.rvs(size=2)\n",
        "    m=DistributieP1.rvs()\n",
        "\n",
        "    if m<(n[0]+n[1]): stemeP0+=1\n",
        "\n",
        "if(stemeP0>20000-stemeP0): print(\"P0 are mai multe sanse de castig\")\n",
        "else: print(\"P1 are mai multe sanse de castig\")\n"
      ]
    },
    {
      "cell_type": "code",
      "source": [
        "pip install pgmpy"
      ],
      "metadata": {
        "colab": {
          "base_uri": "https://localhost:8080/"
        },
        "id": "4chOJAQ58n50",
        "outputId": "e255836d-1df1-42b6-a191-6f8ce99cf66d"
      },
      "execution_count": 36,
      "outputs": [
        {
          "output_type": "stream",
          "name": "stdout",
          "text": [
            "Collecting pgmpy\n",
            "  Downloading pgmpy-0.1.24-py3-none-any.whl (2.0 MB)\n",
            "\u001b[?25l     \u001b[90m━━━━━━━━━━━━━━━━━━━━━━━━━━━━━━━━━━━━━━━━\u001b[0m \u001b[32m0.0/2.0 MB\u001b[0m \u001b[31m?\u001b[0m eta \u001b[36m-:--:--\u001b[0m\r\u001b[2K     \u001b[91m━\u001b[0m\u001b[91m╸\u001b[0m\u001b[90m━━━━━━━━━━━━━━━━━━━━━━━━━━━━━━━━━━━━━━\u001b[0m \u001b[32m0.1/2.0 MB\u001b[0m \u001b[31m2.8 MB/s\u001b[0m eta \u001b[36m0:00:01\u001b[0m\r\u001b[2K     \u001b[91m━━━━━━━━━━━━━━━━━━━━━━\u001b[0m\u001b[90m╺\u001b[0m\u001b[90m━━━━━━━━━━━━━━━━━\u001b[0m \u001b[32m1.1/2.0 MB\u001b[0m \u001b[31m16.8 MB/s\u001b[0m eta \u001b[36m0:00:01\u001b[0m\r\u001b[2K     \u001b[90m━━━━━━━━━━━━━━━━━━━━━━━━━━━━━━━━━━━━━━━━\u001b[0m \u001b[32m2.0/2.0 MB\u001b[0m \u001b[31m22.1 MB/s\u001b[0m eta \u001b[36m0:00:00\u001b[0m\n",
            "\u001b[?25hRequirement already satisfied: networkx in /usr/local/lib/python3.10/dist-packages (from pgmpy) (3.2.1)\n",
            "Requirement already satisfied: numpy in /usr/local/lib/python3.10/dist-packages (from pgmpy) (1.23.5)\n",
            "Requirement already satisfied: scipy in /usr/local/lib/python3.10/dist-packages (from pgmpy) (1.11.3)\n",
            "Requirement already satisfied: scikit-learn in /usr/local/lib/python3.10/dist-packages (from pgmpy) (1.2.2)\n",
            "Requirement already satisfied: pandas in /usr/local/lib/python3.10/dist-packages (from pgmpy) (1.5.3)\n",
            "Requirement already satisfied: pyparsing in /usr/local/lib/python3.10/dist-packages (from pgmpy) (3.1.1)\n",
            "Requirement already satisfied: torch in /usr/local/lib/python3.10/dist-packages (from pgmpy) (2.1.0+cu118)\n",
            "Requirement already satisfied: statsmodels in /usr/local/lib/python3.10/dist-packages (from pgmpy) (0.14.0)\n",
            "Requirement already satisfied: tqdm in /usr/local/lib/python3.10/dist-packages (from pgmpy) (4.66.1)\n",
            "Requirement already satisfied: joblib in /usr/local/lib/python3.10/dist-packages (from pgmpy) (1.3.2)\n",
            "Requirement already satisfied: opt-einsum in /usr/local/lib/python3.10/dist-packages (from pgmpy) (3.3.0)\n",
            "Requirement already satisfied: python-dateutil>=2.8.1 in /usr/local/lib/python3.10/dist-packages (from pandas->pgmpy) (2.8.2)\n",
            "Requirement already satisfied: pytz>=2020.1 in /usr/local/lib/python3.10/dist-packages (from pandas->pgmpy) (2023.3.post1)\n",
            "Requirement already satisfied: threadpoolctl>=2.0.0 in /usr/local/lib/python3.10/dist-packages (from scikit-learn->pgmpy) (3.2.0)\n",
            "Requirement already satisfied: patsy>=0.5.2 in /usr/local/lib/python3.10/dist-packages (from statsmodels->pgmpy) (0.5.3)\n",
            "Requirement already satisfied: packaging>=21.3 in /usr/local/lib/python3.10/dist-packages (from statsmodels->pgmpy) (23.2)\n",
            "Requirement already satisfied: filelock in /usr/local/lib/python3.10/dist-packages (from torch->pgmpy) (3.13.1)\n",
            "Requirement already satisfied: typing-extensions in /usr/local/lib/python3.10/dist-packages (from torch->pgmpy) (4.5.0)\n",
            "Requirement already satisfied: sympy in /usr/local/lib/python3.10/dist-packages (from torch->pgmpy) (1.12)\n",
            "Requirement already satisfied: jinja2 in /usr/local/lib/python3.10/dist-packages (from torch->pgmpy) (3.1.2)\n",
            "Requirement already satisfied: fsspec in /usr/local/lib/python3.10/dist-packages (from torch->pgmpy) (2023.6.0)\n",
            "Requirement already satisfied: triton==2.1.0 in /usr/local/lib/python3.10/dist-packages (from torch->pgmpy) (2.1.0)\n",
            "Requirement already satisfied: six in /usr/local/lib/python3.10/dist-packages (from patsy>=0.5.2->statsmodels->pgmpy) (1.16.0)\n",
            "Requirement already satisfied: MarkupSafe>=2.0 in /usr/local/lib/python3.10/dist-packages (from jinja2->torch->pgmpy) (2.1.3)\n",
            "Requirement already satisfied: mpmath>=0.19 in /usr/local/lib/python3.10/dist-packages (from sympy->torch->pgmpy) (1.3.0)\n",
            "Installing collected packages: pgmpy\n",
            "Successfully installed pgmpy-0.1.24\n"
          ]
        }
      ]
    },
    {
      "cell_type": "code",
      "source": [
        "#1.2)\n",
        "\n",
        "from pgmpy.models import BayesianNetwork\n",
        "from pgmpy.factors.discrete import TabularCPD\n",
        "from pgmpy.inference import VariableElimination\n",
        "import matplotlib.pyplot as plt\n",
        "import networkx as nx\n",
        "\n",
        "model=BayesianNetwork([('M','P01'),('M','P11')])\n",
        "\n",
        "CPD_AlegereJocator=TabularCPD(variable='M', variable_card=2,values=[[0.5],[0.5]])\n",
        "\n",
        "CPD_JucatorP0=TabularCPD(variable='P01', variable_card=2,values=[[1/3,1/9],[2/3,8/9]],evidence=['M'],evidence_card=[2])\n",
        "\n",
        "CPD_JucatorP1=TabularCPD(variable='P11', variable_card=2,values=[[3/4,1/2],[1/4,1/2]],evidence=['M'],evidence_card=[2])\n",
        "\n",
        "model.add_cpds(CPD_AlegereJocator,CPD_JucatorP0,CPD_JucatorP1)\n",
        "\n",
        "assert model.check_model()\n",
        "pos = nx.circular_layout(model)\n",
        "nx.draw(model, pos=pos, with_labels=True, node_size=4000, font_weight='bold', node_color='skyblue')\n",
        "plt.show()\n",
        "\n",
        "#1.3)\n",
        "\n",
        "infer = VariableElimination(model)\n",
        "\n",
        "result0= infer.query(variables=['P0'], evidence={'M': 0})\n",
        "result1= infer.query(variables=['P1'], evidence={'M': 0})\n",
        "result=result1+result0\n",
        "\n",
        "print(result)\n",
        "#ne putem da seama din grafic ca este mai probabil sa obtinem stema in prima runda (P0(0)+P1(0))"
      ],
      "metadata": {
        "colab": {
          "base_uri": "https://localhost:8080/",
          "height": 713
        },
        "id": "qzDHrD_I5Vpg",
        "outputId": "c8b3e431-81b1-47b9-8a77-39bb082d1d93"
      },
      "execution_count": 51,
      "outputs": [
        {
          "output_type": "display_data",
          "data": {
            "text/plain": [
              "<Figure size 640x480 with 1 Axes>"
            ],
            "image/png": "[encoded data removed]"
          },
          "metadata": {}
        },
        {
          "output_type": "stream",
          "name": "stdout",
          "text": [
            "+-------+-------+--------------+\n",
            "| P1    | P0    |   phi(P1,P0) |\n",
            "+=======+=======+==============+\n",
            "| P1(0) | P0(0) |       1.0833 |\n",
            "+-------+-------+--------------+\n",
            "| P1(0) | P0(1) |       1.4167 |\n",
            "+-------+-------+--------------+\n",
            "| P1(1) | P0(0) |       0.5833 |\n",
            "+-------+-------+--------------+\n",
            "| P1(1) | P0(1) |       0.9167 |\n",
            "+-------+-------+--------------+\n"
          ]
        }
      ]
    },
    {
      "cell_type": "code",
      "source": [
        "#Problema 2)"
      ],
      "metadata": {
        "id": "DHjyLtWTANu4"
      },
      "execution_count": null,
      "outputs": []
    },
    {
      "cell_type": "code",
      "source": [
        "#2.1)\n",
        "\n",
        "import random\n",
        "import numpy as np\n",
        "from scipy import stats\n",
        "miu=30\n",
        "sigma=15\n",
        "Timp=stats.norm(miu,sigma)\n",
        "\n",
        "exemplu=Timp.rvs(size=200)\n",
        "\n",
        "print(exemplu)\n",
        "\n",
        "\n",
        "#2.2) Am ales pentru miu o distributie de tip Poisson deoarece ma intereseaza sa aflu cat de des trebuie sa astepte un client, iar o distributie exponentiala pentru sigma\n",
        "# deoarece sigma are doar valori pozitive\n",
        "import pymc as pm\n",
        "\n",
        "with pm.Model() as estimare:\n",
        "  miu=pm.Poisson('miu',30)\n",
        "  sigma= pm.Exponential('sigma',1/15)\n",
        "\n",
        "  timpMediu=pm.Normal('T',mu=miu,sigma=sigma,observed=miu)\n",
        "\n",
        "  idata=pm.sample(1000, return_inferencedata=True)\n",
        "\n",
        "\n",
        "#2.3)\n",
        "import arviz as az\n",
        "import matplotlib.pyplot as plt\n",
        "trace=pm.sample_posterior_predictive(idata, model=estimare, extend_inferencedata=True)\n",
        "\n",
        "ax= az.plot_ppc(trace, num_pp_samples=100, figsize=(12, 6), mean=False)\n",
        "plt.show()"
      ],
      "metadata": {
        "colab": {
          "base_uri": "https://localhost:8080/",
          "height": 1000
        },
        "id": "FqcahvlPAUCC",
        "outputId": "0c26cd4a-e2e0-4f5f-cc69-3d6bc7918b28"
      },
      "execution_count": 60,
      "outputs": [
        {
          "output_type": "stream",
          "name": "stdout",
          "text": [
            "[ 39.1948474   37.62617113  28.32851906  38.62603395  53.27243807\n",
            "  32.4829577   15.22531227  22.88303926  25.35537664  14.39668222\n",
            "  31.74148521  20.74426674  19.81030755  40.32272492  10.54752831\n",
            "  23.3284677   32.57504616  38.5645007  -10.08141823  25.52959623\n",
            "  32.51494028  34.65783023  26.89819414  26.4647194   42.30441409\n",
            "  21.90034766  29.78472895  12.98419434  28.28060785 -10.74111247\n",
            "  47.80465385  26.10380489  43.18287735  62.12762832  36.33329634\n",
            "  33.02960234  43.35233888  12.9964317   35.44048567  35.78244127\n",
            "  17.21052084  50.02317078  41.39357599  37.11206952  33.48530943\n",
            "  15.26276857  32.60361906  -7.06514566  41.42159446  16.81680259\n",
            "  35.90765877   6.76626195  60.07670639  44.42870236  42.23474703\n",
            "   5.24694573  52.02603024  21.75814613  60.35508677  65.49532355\n",
            "  36.86445347  47.29841471  44.58574425  27.76858201  40.62758098\n",
            "  17.99997215  30.31995304  25.85143901  52.43673921  52.96486576\n",
            "  21.06568115   7.57414774  -2.43549089  31.39466535  57.577185\n",
            "  28.78563568   7.22507562  15.588614    22.91523755  27.35720215\n",
            "  27.41556909   8.06053469  17.90583677  16.06031545  18.72570962\n",
            "  17.67803202  38.87982157  33.56127743  29.9052301   14.63529161\n",
            "  29.94222631  32.01628837  37.79997109  35.72224069  -4.79757793\n",
            "  22.09939685  46.15014971  21.90046833  20.65410629  36.80973802\n",
            "  25.85756302   5.51214015  33.97856541  12.78475563  26.7013393\n",
            "  17.99429745  40.79977151  13.32991165  29.73561608  14.7108271\n",
            "   1.72499714  33.82152811   1.67359549  42.99689555  39.73299932\n",
            "  19.00648602  29.86330443  52.4048887   31.84767577  52.2363848\n",
            "  24.44823854  19.73301285  22.54614447  28.69487251  11.72933757\n",
            "   9.44008644  29.24326849  30.47987857  -4.59880399  13.1357737\n",
            "  38.78614858  64.15777848  46.59999608  37.44154909   5.70212887\n",
            "  13.26097966  24.5013523   19.08266338  30.03184815  -0.88607065\n",
            "  15.5357075   53.63819288  18.18713599  25.52297262  35.93039967\n",
            "  40.90354064  36.03375304  36.17314872  33.73561079  11.04395449\n",
            "  -3.09273603  31.28385675  19.62876659  29.93687783   8.17707262\n",
            "  23.28731759  32.99361196  20.76457787  26.7949924   24.01264666\n",
            "  35.63226123  28.67079487   2.862366    27.11625614  46.84123603\n",
            "  26.10191887  41.5249429   22.46273725  61.53504971  24.13344793\n",
            "  30.31136116  52.98519858  39.69834179  45.43105861  38.32885038\n",
            "  50.72105934  32.7485296   19.95744031  29.96917502  14.62874097\n",
            "  32.46525561  18.71957376  24.53961334  20.15332776  16.46614214\n",
            "  41.56813012  45.67879209  39.70670199  20.41405746  12.83792469\n",
            "  46.30031981   3.42012478  40.80528917  20.79171405  49.12745158\n",
            "  22.38950631  38.83296341  12.0677384   15.92732606  51.74421512]\n"
          ]
        },
        {
          "output_type": "display_data",
          "data": {
            "text/plain": [
              "<IPython.core.display.HTML object>"
            ],
            "text/html": [
              "\n",
              "<style>\n",
              "    /* Turns off some styling */\n",
              "    progress {\n",
              "        /* gets rid of default border in Firefox and Opera. */\n",
              "        border: none;\n",
              "        /* Needs to be in here for Safari polyfill so background images work as expected. */\n",
              "        background-size: auto;\n",
              "    }\n",
              "    progress:not([value]), progress:not([value])::-webkit-progress-bar {\n",
              "        background: repeating-linear-gradient(45deg, #7e7e7e, #7e7e7e 10px, #5c5c5c 10px, #5c5c5c 20px);\n",
              "    }\n",
              "    .progress-bar-interrupted, .progress-bar-interrupted::-webkit-progress-bar {\n",
              "        background: #F44336;\n",
              "    }\n",
              "</style>\n"
            ]
          },
          "metadata": {}
        },
        {
          "output_type": "display_data",
          "data": {
            "text/plain": [
              "<IPython.core.display.HTML object>"
            ],
            "text/html": [
              "\n",
              "    <div>\n",
              "      <progress value='2000' class='' max='2000' style='width:300px; height:20px; vertical-align: middle;'></progress>\n",
              "      100.00% [2000/2000 00:06&lt;00:00 Sampling chain 0, 0 divergences]\n",
              "    </div>\n",
              "    "
            ]
          },
          "metadata": {}
        },
        {
          "output_type": "display_data",
          "data": {
            "text/plain": [
              "<IPython.core.display.HTML object>"
            ],
            "text/html": [
              "\n",
              "<style>\n",
              "    /* Turns off some styling */\n",
              "    progress {\n",
              "        /* gets rid of default border in Firefox and Opera. */\n",
              "        border: none;\n",
              "        /* Needs to be in here for Safari polyfill so background images work as expected. */\n",
              "        background-size: auto;\n",
              "    }\n",
              "    progress:not([value]), progress:not([value])::-webkit-progress-bar {\n",
              "        background: repeating-linear-gradient(45deg, #7e7e7e, #7e7e7e 10px, #5c5c5c 10px, #5c5c5c 20px);\n",
              "    }\n",
              "    .progress-bar-interrupted, .progress-bar-interrupted::-webkit-progress-bar {\n",
              "        background: #F44336;\n",
              "    }\n",
              "</style>\n"
            ]
          },
          "metadata": {}
        },
        {
          "output_type": "display_data",
          "data": {
            "text/plain": [
              "<IPython.core.display.HTML object>"
            ],
            "text/html": [
              "\n",
              "    <div>\n",
              "      <progress value='2000' class='' max='2000' style='width:300px; height:20px; vertical-align: middle;'></progress>\n",
              "      100.00% [2000/2000 00:08&lt;00:00 Sampling chain 1, 0 divergences]\n",
              "    </div>\n",
              "    "
            ]
          },
          "metadata": {}
        },
        {
          "output_type": "stream",
          "name": "stderr",
          "text": [
            "/usr/local/lib/python3.10/dist-packages/pymc/backends/arviz.py:65: UserWarning: Could not extract data from symbolic observation T\n",
            "  warnings.warn(f\"Could not extract data from symbolic observation {obs}\")\n"
          ]
        },
        {
          "output_type": "display_data",
          "data": {
            "text/plain": [
              "<IPython.core.display.HTML object>"
            ],
            "text/html": [
              "\n",
              "<style>\n",
              "    /* Turns off some styling */\n",
              "    progress {\n",
              "        /* gets rid of default border in Firefox and Opera. */\n",
              "        border: none;\n",
              "        /* Needs to be in here for Safari polyfill so background images work as expected. */\n",
              "        background-size: auto;\n",
              "    }\n",
              "    progress:not([value]), progress:not([value])::-webkit-progress-bar {\n",
              "        background: repeating-linear-gradient(45deg, #7e7e7e, #7e7e7e 10px, #5c5c5c 10px, #5c5c5c 20px);\n",
              "    }\n",
              "    .progress-bar-interrupted, .progress-bar-interrupted::-webkit-progress-bar {\n",
              "        background: #F44336;\n",
              "    }\n",
              "</style>\n"
            ]
          },
          "metadata": {}
        },
        {
          "output_type": "display_data",
          "data": {
            "text/plain": [
              "<IPython.core.display.HTML object>"
            ],
            "text/html": [
              "\n",
              "    <div>\n",
              "      <progress value='2000' class='' max='2000' style='width:300px; height:20px; vertical-align: middle;'></progress>\n",
              "      100.00% [2000/2000 00:00&lt;00:00]\n",
              "    </div>\n",
              "    "
            ]
          },
          "metadata": {}
        },
        {
          "output_type": "stream",
          "name": "stderr",
          "text": [
            "/usr/local/lib/python3.10/dist-packages/pymc/backends/arviz.py:65: UserWarning: Could not extract data from symbolic observation T\n",
            "  warnings.warn(f\"Could not extract data from symbolic observation {obs}\")\n"
          ]
        },
        {
          "output_type": "error",
          "ename": "TypeError",
          "evalue": "ignored",
          "traceback": [
            "\u001b[0;31m---------------------------------------------------------------------------\u001b[0m",
            "\u001b[0;31mTypeError\u001b[0m                                 Traceback (most recent call last)",
            "\u001b[0;32m<ipython-input-60-f5c3bfcae94a>\u001b[0m in \u001b[0;36m<cell line: 33>\u001b[0;34m()\u001b[0m\n\u001b[1;32m     31\u001b[0m \u001b[0mtrace\u001b[0m\u001b[0;34m=\u001b[0m\u001b[0mpm\u001b[0m\u001b[0;34m.\u001b[0m\u001b[0msample_posterior_predictive\u001b[0m\u001b[0;34m(\u001b[0m\u001b[0midata\u001b[0m\u001b[0;34m,\u001b[0m \u001b[0mmodel\u001b[0m\u001b[0;34m=\u001b[0m\u001b[0mestimare\u001b[0m\u001b[0;34m,\u001b[0m \u001b[0mextend_inferencedata\u001b[0m\u001b[0;34m=\u001b[0m\u001b[0;32mTrue\u001b[0m\u001b[0;34m)\u001b[0m\u001b[0;34m\u001b[0m\u001b[0;34m\u001b[0m\u001b[0m\n\u001b[1;32m     32\u001b[0m \u001b[0;34m\u001b[0m\u001b[0m\n\u001b[0;32m---> 33\u001b[0;31m \u001b[0max\u001b[0m\u001b[0;34m=\u001b[0m \u001b[0maz\u001b[0m\u001b[0;34m.\u001b[0m\u001b[0mplot_ppc\u001b[0m\u001b[0;34m(\u001b[0m\u001b[0mtrace\u001b[0m\u001b[0;34m,\u001b[0m \u001b[0mnum_pp_samples\u001b[0m\u001b[0;34m=\u001b[0m\u001b[0;36m100\u001b[0m\u001b[0;34m,\u001b[0m \u001b[0mfigsize\u001b[0m\u001b[0;34m=\u001b[0m\u001b[0;34m(\u001b[0m\u001b[0;36m12\u001b[0m\u001b[0;34m,\u001b[0m \u001b[0;36m6\u001b[0m\u001b[0;34m)\u001b[0m\u001b[0;34m,\u001b[0m \u001b[0mmean\u001b[0m\u001b[0;34m=\u001b[0m\u001b[0;32mFalse\u001b[0m\u001b[0;34m)\u001b[0m\u001b[0;34m\u001b[0m\u001b[0;34m\u001b[0m\u001b[0m\n\u001b[0m\u001b[1;32m     34\u001b[0m \u001b[0mplt\u001b[0m\u001b[0;34m.\u001b[0m\u001b[0mshow\u001b[0m\u001b[0;34m(\u001b[0m\u001b[0;34m)\u001b[0m\u001b[0;34m\u001b[0m\u001b[0;34m\u001b[0m\u001b[0m\n",
            "\u001b[0;32m/usr/local/lib/python3.10/dist-packages/arviz/plots/ppcplot.py\u001b[0m in \u001b[0;36mplot_ppc\u001b[0;34m(data, kind, alpha, mean, observed, observed_rug, color, colors, grid, figsize, textsize, data_pairs, var_names, filter_vars, coords, flatten, flatten_pp, num_pp_samples, random_seed, jitter, animated, animation_kwargs, legend, labeller, ax, backend, backend_kwargs, group, show)\u001b[0m\n\u001b[1;32m    224\u001b[0m     \u001b[0;32mfor\u001b[0m \u001b[0mgroups\u001b[0m \u001b[0;32min\u001b[0m \u001b[0;34m(\u001b[0m\u001b[0;34mf\"{group}_predictive\"\u001b[0m\u001b[0;34m,\u001b[0m \u001b[0;34m\"observed_data\"\u001b[0m\u001b[0;34m)\u001b[0m\u001b[0;34m:\u001b[0m\u001b[0;34m\u001b[0m\u001b[0;34m\u001b[0m\u001b[0m\n\u001b[1;32m    225\u001b[0m         \u001b[0;32mif\u001b[0m \u001b[0;32mnot\u001b[0m \u001b[0mhasattr\u001b[0m\u001b[0;34m(\u001b[0m\u001b[0mdata\u001b[0m\u001b[0;34m,\u001b[0m \u001b[0mgroups\u001b[0m\u001b[0;34m)\u001b[0m\u001b[0;34m:\u001b[0m\u001b[0;34m\u001b[0m\u001b[0;34m\u001b[0m\u001b[0m\n\u001b[0;32m--> 226\u001b[0;31m             \u001b[0;32mraise\u001b[0m \u001b[0mTypeError\u001b[0m\u001b[0;34m(\u001b[0m\u001b[0;34mf'`data` argument must have the group \"{groups}\" for ppcplot'\u001b[0m\u001b[0;34m)\u001b[0m\u001b[0;34m\u001b[0m\u001b[0;34m\u001b[0m\u001b[0m\n\u001b[0m\u001b[1;32m    227\u001b[0m \u001b[0;34m\u001b[0m\u001b[0m\n\u001b[1;32m    228\u001b[0m     \u001b[0;32mif\u001b[0m \u001b[0mkind\u001b[0m\u001b[0;34m.\u001b[0m\u001b[0mlower\u001b[0m\u001b[0;34m(\u001b[0m\u001b[0;34m)\u001b[0m \u001b[0;32mnot\u001b[0m \u001b[0;32min\u001b[0m \u001b[0;34m(\u001b[0m\u001b[0;34m\"kde\"\u001b[0m\u001b[0;34m,\u001b[0m \u001b[0;34m\"cumulative\"\u001b[0m\u001b[0;34m,\u001b[0m \u001b[0;34m\"scatter\"\u001b[0m\u001b[0;34m)\u001b[0m\u001b[0;34m:\u001b[0m\u001b[0;34m\u001b[0m\u001b[0;34m\u001b[0m\u001b[0m\n",
            "\u001b[0;31mTypeError\u001b[0m: `data` argument must have the group \"observed_data\" for ppcplot"
          ]
        }
      ]
    },
    {
      "cell_type": "code",
      "source": [],
      "metadata": {
        "id": "cfsyhnsiGlea"
      },
      "execution_count": null,
      "outputs": []
    }
  ]
}